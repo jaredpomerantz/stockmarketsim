{
 "cells": [
  {
   "cell_type": "markdown",
   "id": "f02893dd",
   "metadata": {},
   "source": [
    "# Model Training Notebook"
   ]
  },
  {
   "cell_type": "code",
   "execution_count": null,
   "id": "b41bfeb3",
   "metadata": {},
   "outputs": [],
   "source": [
    "from simulator.objects.policies.architectures.perceptron import MultiLayerPerceptron"
   ]
  }
 ],
 "metadata": {
  "kernelspec": {
   "display_name": ".venv",
   "language": "python",
   "name": "python3"
  },
  "language_info": {
   "name": "python",
   "version": "3.12.4"
  }
 },
 "nbformat": 4,
 "nbformat_minor": 5
}
